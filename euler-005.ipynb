{
 "cells": [
  {
   "cell_type": "markdown",
   "id": "08961472-9b5b-42b2-9658-4d70240183a4",
   "metadata": {
    "tags": []
   },
   "source": [
    "## Problem 5 - Smallest multiple\n",
    "\n",
    "> 2520 is the smallest number that can be divided by each of the numbers from 1 to 10 without any remainder.\n",
    ">\n",
    "> What is the smallest positive number that is evenly divisible by all of the numbers from 1 to 20?\n"
   ]
  },
  {
   "cell_type": "code",
   "execution_count": 5,
   "id": "5e6020ae-a07f-4da7-81e2-c7a55dd4f744",
   "metadata": {},
   "outputs": [],
   "source": [
    "def smallestMultiple(n):\n",
    "    div = [n]\n",
    "    for i in range(div[0] - 1, 0, -1):\n",
    "        for d in div:\n",
    "            if d % i == 0:\n",
    "                break\n",
    "        else:\n",
    "            div.append(i)      \n",
    "    while True:\n",
    "        for i in div:\n",
    "            if n % i != 0:\n",
    "                n += div[0]\n",
    "                break\n",
    "            if i == div[-1]:\n",
    "                return n"
   ]
  },
  {
   "cell_type": "code",
   "execution_count": 6,
   "id": "1e2b60b9-2f14-4020-a6ba-6b54c5f426f7",
   "metadata": {},
   "outputs": [
    {
     "data": {
      "text/plain": [
       "232792560"
      ]
     },
     "execution_count": 6,
     "metadata": {},
     "output_type": "execute_result"
    }
   ],
   "source": [
    "smallestMultiple(20)"
   ]
  }
 ],
 "metadata": {
  "kernelspec": {
   "display_name": "Python 3 (ipykernel)",
   "language": "python",
   "name": "python3"
  },
  "language_info": {
   "codemirror_mode": {
    "name": "ipython",
    "version": 3
   },
   "file_extension": ".py",
   "mimetype": "text/x-python",
   "name": "python",
   "nbconvert_exporter": "python",
   "pygments_lexer": "ipython3",
   "version": "3.10.2"
  }
 },
 "nbformat": 4,
 "nbformat_minor": 5
}
