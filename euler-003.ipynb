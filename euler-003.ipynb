{
 "cells": [
  {
   "cell_type": "markdown",
   "id": "71f08110-668e-469c-ac33-bba47d7e22ea",
   "metadata": {},
   "source": [
    "## Problem 3 - Largest Prime Factor\n",
    "\n",
    "> The prime factors of 13195 are 5, 7, 13 and 29.\n",
    ">\n",
    "> What is the largest prime factor of the number 600851475143 ?\n"
   ]
  },
  {
   "cell_type": "code",
   "execution_count": 1,
   "id": "244b331f-e893-4419-990c-f46b5e1683fd",
   "metadata": {},
   "outputs": [],
   "source": [
    "def largestPrimeFactor(n):\n",
    "    if n % 2 == 0:\n",
    "        n = n / 2\n",
    "        lastFactor = 2\n",
    "        while n % 2 == 0:\n",
    "            n = n / 2\n",
    "    else:\n",
    "        lastFactor = 1\n",
    "    factor = 3\n",
    "    while n > 1:\n",
    "        if n % factor == 0:\n",
    "            lastFactor = factor\n",
    "            n = n / factor\n",
    "            while n % factor == 0:\n",
    "                n = n / factor\n",
    "        factor = factor + 1\n",
    "    return lastFactor"
   ]
  },
  {
   "cell_type": "code",
   "execution_count": 2,
   "id": "a906b5f7-beb6-445e-ac2d-6eb366bd5d3b",
   "metadata": {},
   "outputs": [
    {
     "data": {
      "text/plain": [
       "6857"
      ]
     },
     "execution_count": 2,
     "metadata": {},
     "output_type": "execute_result"
    }
   ],
   "source": [
    "number = 600_851_475_143\n",
    "largestPrimeFactor(number)"
   ]
  }
 ],
 "metadata": {
  "kernelspec": {
   "display_name": "Python 3 (ipykernel)",
   "language": "python",
   "name": "python3"
  },
  "language_info": {
   "codemirror_mode": {
    "name": "ipython",
    "version": 3
   },
   "file_extension": ".py",
   "mimetype": "text/x-python",
   "name": "python",
   "nbconvert_exporter": "python",
   "pygments_lexer": "ipython3",
   "version": "3.10.2"
  }
 },
 "nbformat": 4,
 "nbformat_minor": 5
}
