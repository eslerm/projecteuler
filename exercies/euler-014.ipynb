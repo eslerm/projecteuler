{
 "cells": [
  {
   "cell_type": "markdown",
   "id": "71f08110-668e-469c-ac33-bba47d7e22ea",
   "metadata": {},
   "source": [
    "## Probelm 14 - Longest Collatz sequence\n",
    "\n",
    "> The following iterative sequence is defined for the set of positive integers:\n",
    ">\n",
    "> ```n → n/2 (n is even)```\n",
    ">\n",
    "> ```n → 3n + 1 (n is odd)```\n",
    ">\n",
    "> Using the rule above and starting with 13, we generate the following sequence:\n",
    ">\n",
    "> ```13 → 40 → 20 → 10 → 5 → 16 → 8 → 4 → 2 → 1```\n",
    ">\n",
    "> It can be seen that this sequence (starting at 13 and finishing at 1) contains 10 terms. Although it has not been proved yet (Collatz Problem), it is thought that all starting numbers finish at 1.\n",
    ">\n",
    "> Which starting number, under one million, produces the longest chain?\n",
    ">\n",
    "> NOTE: Once the chain starts the terms are allowed to go above one million."
   ]
  },
  {
   "cell_type": "code",
   "execution_count": 1,
   "id": "e6680d8b-912a-4fa4-9f28-635b7824cb72",
   "metadata": {},
   "outputs": [],
   "source": [
    "def collatz(n):\n",
    "    l = list()\n",
    "    while n >= 1:\n",
    "        if n == 1:\n",
    "            l.append(n)\n",
    "            return(l)\n",
    "        elif n % 2 == 0:\n",
    "            n = n / 2\n",
    "        else:\n",
    "            n = 3*n + 1\n",
    "        l.append(n)"
   ]
  },
  {
   "cell_type": "code",
   "execution_count": 2,
   "id": "74a2228c-c81c-4106-b71b-457de0dde1da",
   "metadata": {},
   "outputs": [
    {
     "data": {
      "text/plain": [
       "(525, 837799)"
      ]
     },
     "execution_count": 2,
     "metadata": {},
     "output_type": "execute_result"
    }
   ],
   "source": [
    "n = int(1e6)\n",
    "longest = (0, 0)\n",
    "\n",
    "for i in range(n - 1, 0, -1):\n",
    "    cl = len(collatz(i))\n",
    "    if cl > longest[0]:\n",
    "        longest = (cl, i)\n",
    "\n",
    "longest"
   ]
  },
  {
   "cell_type": "code",
   "execution_count": null,
   "id": "5363d878-2a7a-407d-a535-440c11827946",
   "metadata": {},
   "outputs": [],
   "source": []
  }
 ],
 "metadata": {
  "kernelspec": {
   "display_name": "Python 3 (ipykernel)",
   "language": "python",
   "name": "python3"
  },
  "language_info": {
   "codemirror_mode": {
    "name": "ipython",
    "version": 3
   },
   "file_extension": ".py",
   "mimetype": "text/x-python",
   "name": "python",
   "nbconvert_exporter": "python",
   "pygments_lexer": "ipython3",
   "version": "3.10.4"
  }
 },
 "nbformat": 4,
 "nbformat_minor": 5
}
