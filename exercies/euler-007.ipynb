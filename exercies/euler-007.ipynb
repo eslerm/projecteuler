{
 "cells": [
  {
   "cell_type": "markdown",
   "id": "71f08110-668e-469c-ac33-bba47d7e22ea",
   "metadata": {},
   "source": [
    "## Problem 7 - 10001st prime\n",
    "\n",
    "> By listing the first six prime numbers: 2, 3, 5, 7, 11, and 13, we can see that the 6th prime is 13.\n",
    ">\n",
    "> What is the 10,001st prime number?"
   ]
  },
  {
   "cell_type": "markdown",
   "id": "11d07729-d624-492f-bc6f-3708785ad55f",
   "metadata": {},
   "source": [
    "### SymPy Library\n",
    "\n",
    "Using sympy to access primes."
   ]
  },
  {
   "cell_type": "code",
   "execution_count": 10,
   "id": "e7107f84-5994-40a7-9539-21b90bc577ca",
   "metadata": {},
   "outputs": [],
   "source": [
    "import math\n",
    "\n",
    "\n",
    "def isPrime(n):\n",
    "    if n == 1:\n",
    "        return False\n",
    "    elif n < 4:\n",
    "        return True\n",
    "    elif n % 2 == 0:\n",
    "        return False\n",
    "    elif n < 9:\n",
    "        return True\n",
    "    elif n % 3 == 0:\n",
    "        return False\n",
    "    else:\n",
    "        r = math.floor(math.sqrt(n))\n",
    "        f = 5\n",
    "        while f <= r:\n",
    "            if n % f == 0:\n",
    "                return False\n",
    "            if n % (f + 2) == 0:\n",
    "                return False\n",
    "            f = f + 6\n",
    "        return True\n",
    "\n",
    "\n",
    "def prime(n):\n",
    "    i = 0\n",
    "    j = 0\n",
    "    prime = 2\n",
    "    while i < n:\n",
    "        if isPrime(j):\n",
    "            prime = j\n",
    "            i += 1\n",
    "        j += 1\n",
    "    return(prime)"
   ]
  },
  {
   "cell_type": "code",
   "execution_count": 11,
   "id": "7e678c5b-656c-4c66-a1e4-74f8200c9ad9",
   "metadata": {},
   "outputs": [
    {
     "data": {
      "text/plain": [
       "104729"
      ]
     },
     "execution_count": 11,
     "metadata": {},
     "output_type": "execute_result"
    }
   ],
   "source": [
    "n = 10_001\n",
    "prime(n)"
   ]
  }
 ],
 "metadata": {
  "kernelspec": {
   "display_name": "Python 3 (ipykernel)",
   "language": "python",
   "name": "python3"
  },
  "language_info": {
   "codemirror_mode": {
    "name": "ipython",
    "version": 3
   },
   "file_extension": ".py",
   "mimetype": "text/x-python",
   "name": "python",
   "nbconvert_exporter": "python",
   "pygments_lexer": "ipython3",
   "version": "3.10.2"
  }
 },
 "nbformat": 4,
 "nbformat_minor": 5
}
