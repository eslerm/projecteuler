{
 "cells": [
  {
   "cell_type": "markdown",
   "id": "08961472-9b5b-42b2-9658-4d70240183a4",
   "metadata": {
    "tags": []
   },
   "source": [
    "## Problem 6 - Sum square difference\n",
    "\n",
    "> The sum of the squares of the first ten natural numbers is,\n",
    ">\n",
    "> `1^2 + 2^2 + ... + 10^2 = 385`\n",
    ">\n",
    "> The square of the sum of the first ten natural numbers is,\n",
    ">\n",
    "> `(1 + 2 + ... + 10)^2 = 55^2 = 3025`\n",
    ">\n",
    "> Hence the difference between the sum of the squares of the first ten natural numbers and the square of the sum is `3025 - 385 = 2640`\n",
    ">\n",
    "> Find the difference between the sum of the squares of the first one hundred natural numbers and the square of the sum."
   ]
  },
  {
   "cell_type": "code",
   "execution_count": 1,
   "id": "5e6020ae-a07f-4da7-81e2-c7a55dd4f744",
   "metadata": {},
   "outputs": [],
   "source": [
    "def sumSquareDif(n):\n",
    "    square_sums = 0\n",
    "    sum_squares = 0\n",
    "    for i in range(1, n + 1):\n",
    "        square_sums += i\n",
    "        sum_squares += i ** 2\n",
    "    square_sums = square_sums ** 2\n",
    "    return square_sums - sum_squares"
   ]
  },
  {
   "cell_type": "code",
   "execution_count": 2,
   "id": "352513d9-f85d-4b7f-afc4-de0928baafe6",
   "metadata": {},
   "outputs": [
    {
     "data": {
      "text/plain": [
       "25164150"
      ]
     },
     "execution_count": 2,
     "metadata": {},
     "output_type": "execute_result"
    }
   ],
   "source": [
    "sumSquareDif(100)"
   ]
  }
 ],
 "metadata": {
  "kernelspec": {
   "display_name": "Python 3 (ipykernel)",
   "language": "python",
   "name": "python3"
  },
  "language_info": {
   "codemirror_mode": {
    "name": "ipython",
    "version": 3
   },
   "file_extension": ".py",
   "mimetype": "text/x-python",
   "name": "python",
   "nbconvert_exporter": "python",
   "pygments_lexer": "ipython3",
   "version": "3.10.2"
  }
 },
 "nbformat": 4,
 "nbformat_minor": 5
}
