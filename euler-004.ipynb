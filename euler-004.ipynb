{
 "cells": [
  {
   "cell_type": "markdown",
   "id": "08961472-9b5b-42b2-9658-4d70240183a4",
   "metadata": {
    "tags": []
   },
   "source": [
    "## Problem 4 - Largest Palindrome Product\n",
    "\n",
    "> A palindromic number reads the same both ways. The largest palindrome made from the product of two 2-digit numbers is 9009 = 91 × 99.\n",
    ">\n",
    "> Find the largest palindrome made from the product of two 3-digit numbers."
   ]
  },
  {
   "cell_type": "code",
   "execution_count": 26,
   "id": "9a729d5a-59e2-4a3d-a5bb-00b88099f845",
   "metadata": {},
   "outputs": [
    {
     "name": "stdout",
     "output_type": "stream",
     "text": [
      "906609\n"
     ]
    }
   ],
   "source": [
    "z = 0\n",
    "\n",
    "for i in range(999,99,-1):\n",
    "    for j in range(999,99,-1):\n",
    "        if i * j > z:\n",
    "            a = str(i * j)\n",
    "            b = a[::-1]\n",
    "            if a == b:\n",
    "                z = i * j\n",
    "                break\n",
    "\n",
    "print(z)"
   ]
  }
 ],
 "metadata": {
  "kernelspec": {
   "display_name": "Python 3 (ipykernel)",
   "language": "python",
   "name": "python3"
  },
  "language_info": {
   "codemirror_mode": {
    "name": "ipython",
    "version": 3
   },
   "file_extension": ".py",
   "mimetype": "text/x-python",
   "name": "python",
   "nbconvert_exporter": "python",
   "pygments_lexer": "ipython3",
   "version": "3.10.2"
  }
 },
 "nbformat": 4,
 "nbformat_minor": 5
}
