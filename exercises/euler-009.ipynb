{
 "cells": [
  {
   "cell_type": "markdown",
   "id": "71f08110-668e-469c-ac33-bba47d7e22ea",
   "metadata": {},
   "source": [
    "## Problem 9 - Special Pythagorean triplet\n",
    "\n",
    "> A Pythagorean triplet is a set of three natural numbers, a < b < c, for which, a^2 + b^2 = c^2\n",
    ">\n",
    "> For example, 3^2 + 4^2 = 9 + 16 = 25 = 5^2.\n",
    ">\n",
    "> There exists exactly one Pythagorean triplet for which a + b + c = 1000.\n",
    ">\n",
    "> Find the product abc."
   ]
  },
  {
   "cell_type": "code",
   "execution_count": 1,
   "id": "ad8aeaa9-8e89-4138-b611-be55221811c6",
   "metadata": {},
   "outputs": [
    {
     "name": "stdout",
     "output_type": "stream",
     "text": [
      "31875000\n"
     ]
    }
   ],
   "source": [
    "def specialTriangleProduct(n):\n",
    "    for a in range(1, n):\n",
    "        for b in range(1, n):\n",
    "            c = n - a - b\n",
    "            if c < 0:\n",
    "                break\n",
    "            if a**2 + b**2 == c**2:\n",
    "                return a*b*c\n",
    "    return False\n",
    "            \n",
    "print(specialTriangleProduct(1000))"
   ]
  },
  {
   "cell_type": "code",
   "execution_count": null,
   "id": "89759a34-5892-4103-9f3b-be90bbc9b17b",
   "metadata": {},
   "outputs": [],
   "source": []
  }
 ],
 "metadata": {
  "kernelspec": {
   "display_name": "Python 3 (ipykernel)",
   "language": "python",
   "name": "python3"
  },
  "language_info": {
   "codemirror_mode": {
    "name": "ipython",
    "version": 3
   },
   "file_extension": ".py",
   "mimetype": "text/x-python",
   "name": "python",
   "nbconvert_exporter": "python",
   "pygments_lexer": "ipython3",
   "version": "3.10.2"
  }
 },
 "nbformat": 4,
 "nbformat_minor": 5
}
