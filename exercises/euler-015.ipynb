{
 "cells": [
  {
   "cell_type": "markdown",
   "id": "71f08110-668e-469c-ac33-bba47d7e22ea",
   "metadata": {},
   "source": [
    "## Probelm 15 - Lattice paths\n",
    "\n",
    "> Starting in the top left corner of a 2×2 grid, and only being able to move to the right and down, there are exactly 6 routes to the bottom right corner.\n",
    ">\n",
    "> How many such routes are there through a 20×20 grid?"
   ]
  },
  {
   "cell_type": "markdown",
   "id": "4da3a76f-86cd-4b97-9954-ade9021646fb",
   "metadata": {},
   "source": [
    "Breadth first search takes too long.\n",
    "\n"
   ]
  },
  {
   "cell_type": "code",
   "execution_count": 1,
   "id": "fea68ff1-1b06-4ff3-bcf2-ec1acf62f19d",
   "metadata": {},
   "outputs": [
    {
     "name": "stdout",
     "output_type": "stream",
     "text": [
      "137846528820\n"
     ]
    }
   ],
   "source": [
    "def dynamicPaths(n):\n",
    "    paths = [[0 for i in range(n + 1)] for j in range(n + 1)]\n",
    "    paths[n][n] = 1\n",
    "    queue = [(n, n)]\n",
    "    while queue:\n",
    "        current = queue.pop(0)\n",
    "        if current [0] - 1 >= 0:\n",
    "            if (current[0] - 1, current[1]) not in queue:\n",
    "                queue.append((current[0] - 1, current[1]))\n",
    "            paths[current[0] - 1][current[1]] += paths[current[0]][current[1]]\n",
    "        if current [1] - 1 >= 0:\n",
    "            if (current[0], current[1] - 1) not in queue:\n",
    "                queue.append((current[0], current[1] - 1))\n",
    "            paths[current[0]][current[1] - 1] += paths[current[0]][current[1]]\n",
    "    print(paths[0][0])\n",
    "    \n",
    "dynamicPaths(20)"
   ]
  },
  {
   "cell_type": "code",
   "execution_count": 2,
   "id": "29ce42d2-c6d1-4843-b1d7-1044a0c02f11",
   "metadata": {},
   "outputs": [
    {
     "data": {
      "text/plain": [
       "137846528820"
      ]
     },
     "execution_count": 2,
     "metadata": {},
     "output_type": "execute_result"
    }
   ],
   "source": [
    "from math import comb\n",
    "\n",
    "comb(40,20)"
   ]
  }
 ],
 "metadata": {
  "kernelspec": {
   "display_name": "Python 3 (ipykernel)",
   "language": "python",
   "name": "python3"
  },
  "language_info": {
   "codemirror_mode": {
    "name": "ipython",
    "version": 3
   },
   "file_extension": ".py",
   "mimetype": "text/x-python",
   "name": "python",
   "nbconvert_exporter": "python",
   "pygments_lexer": "ipython3",
   "version": "3.10.3"
  }
 },
 "nbformat": 4,
 "nbformat_minor": 5
}
