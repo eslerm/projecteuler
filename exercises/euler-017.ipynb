{
 "cells": [
  {
   "cell_type": "markdown",
   "id": "71f08110-668e-469c-ac33-bba47d7e22ea",
   "metadata": {},
   "source": [
    "## Probelm 17 - Number letter counts\n",
    "\n",
    "> If the numbers 1 to 5 are written out in words: one, two, three, four, five, then there are 3 + 3 + 5 + 4 + 4 = 19 letters used in total.\n",
    ">\n",
    "> If all the numbers from 1 to 1000 (one thousand) inclusive were written out in words, how many letters would be used?\n",
    ">\n",
    "> NOTE: Do not count spaces or hyphens. For example, 342 (three hundred and forty-two) contains 23 letters and 115 (one hundred and fifteen) contains 20 letters. The use of \"and\" when writing out numbers is in compliance with British usage.\n"
   ]
  },
  {
   "cell_type": "code",
   "execution_count": 1,
   "id": "a630bf48-2bd4-4509-b592-218f3d315db0",
   "metadata": {},
   "outputs": [],
   "source": [
    "letters = {\n",
    "    1: 3,\n",
    "    2: 3,\n",
    "    3: 5,\n",
    "    4: 4,\n",
    "    5: 4,\n",
    "    6: 3,\n",
    "    7: 5,\n",
    "    8: 5,\n",
    "    9: 4,\n",
    "    10: 3,\n",
    "    11: 6,\n",
    "    12: 6,\n",
    "    13: 8,\n",
    "    14: 8,\n",
    "    15: 7,\n",
    "    16: 7,\n",
    "    17: 9,\n",
    "    18: 8,\n",
    "    19: 8,\n",
    "    20: 6,\n",
    "    30: 6,\n",
    "    40: 5,\n",
    "    50: 5,\n",
    "    60: 5,\n",
    "    70: 7,\n",
    "    80: 6,\n",
    "    90: 6,\n",
    "    'hundred': 7,\n",
    "    'thousand': 8,\n",
    "    'and': 3\n",
    "}\n",
    "\n",
    "def letterCount(i):\n",
    "    count = 0\n",
    "    while i > 0:\n",
    "        if i < 21:\n",
    "            count += letters[i]\n",
    "            i = 0\n",
    "        elif i < 100:\n",
    "            remainder = i % 10\n",
    "            count += letters[i - remainder]\n",
    "            i = remainder\n",
    "        elif i < 1000:\n",
    "            remainder = i % 100\n",
    "            count += letters[(i - remainder) // 100]\n",
    "            count += letters['hundred']\n",
    "            if i % 100 != 0:\n",
    "                count += letters['and']\n",
    "            i = remainder\n",
    "        if i == 1000:\n",
    "            count += letters[1] + letters['thousand']\n",
    "            i = 0\n",
    "        letterCount(i)\n",
    "    else:\n",
    "        return count\n",
    "        "
   ]
  },
  {
   "cell_type": "code",
   "execution_count": 2,
   "id": "e7fd0677-033a-400e-8c9e-65ab7cfa208f",
   "metadata": {},
   "outputs": [
    {
     "name": "stdout",
     "output_type": "stream",
     "text": [
      "21124\n"
     ]
    }
   ],
   "source": [
    "result = 0\n",
    "n = 1000\n",
    "for i in range(1, n+1):\n",
    "    result += letterCount(i)\n",
    "\n",
    "print(result)"
   ]
  }
 ],
 "metadata": {
  "kernelspec": {
   "display_name": "Python 3 (ipykernel)",
   "language": "python",
   "name": "python3"
  },
  "language_info": {
   "codemirror_mode": {
    "name": "ipython",
    "version": 3
   },
   "file_extension": ".py",
   "mimetype": "text/x-python",
   "name": "python",
   "nbconvert_exporter": "python",
   "pygments_lexer": "ipython3",
   "version": "3.10.4"
  }
 },
 "nbformat": 4,
 "nbformat_minor": 5
}
