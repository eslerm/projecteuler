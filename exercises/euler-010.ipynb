{
 "cells": [
  {
   "cell_type": "markdown",
   "id": "71f08110-668e-469c-ac33-bba47d7e22ea",
   "metadata": {},
   "source": [
    "## Problem 10 - Summation of primes\n",
    "\n",
    "> The sum of the primes below 10 is 2 + 3 + 5 + 7 = 17.\n",
    ">\n",
    "> Find the sum of all the primes below two million."
   ]
  },
  {
   "cell_type": "code",
   "execution_count": 1,
   "id": "c3b1618f-386a-4541-b45b-b889606fbe6c",
   "metadata": {},
   "outputs": [
    {
     "name": "stdout",
     "output_type": "stream",
     "text": [
      "Defaulting to user installation because normal site-packages is not writeable\n",
      "Requirement already satisfied: sympy in /home/fox/.local/lib/python3.10/site-packages (1.10)\n",
      "Requirement already satisfied: mpmath>=0.19 in /home/fox/.local/lib/python3.10/site-packages (from sympy) (1.2.1)\n"
     ]
    }
   ],
   "source": [
    "import sys\n",
    "!{sys.executable} -m pip install sympy\n",
    "import sympy"
   ]
  },
  {
   "cell_type": "code",
   "execution_count": 2,
   "id": "ad8aeaa9-8e89-4138-b611-be55221811c6",
   "metadata": {},
   "outputs": [
    {
     "name": "stdout",
     "output_type": "stream",
     "text": [
      "142913828922\n"
     ]
    }
   ],
   "source": [
    "prime = 2\n",
    "total = 0\n",
    "n = 2e6\n",
    "\n",
    "while prime < n:\n",
    "    total += prime\n",
    "    prime = sympy.nextprime(prime)\n",
    "    \n",
    "print(total)"
   ]
  }
 ],
 "metadata": {
  "kernelspec": {
   "display_name": "Python 3 (ipykernel)",
   "language": "python",
   "name": "python3"
  },
  "language_info": {
   "codemirror_mode": {
    "name": "ipython",
    "version": 3
   },
   "file_extension": ".py",
   "mimetype": "text/x-python",
   "name": "python",
   "nbconvert_exporter": "python",
   "pygments_lexer": "ipython3",
   "version": "3.10.4"
  }
 },
 "nbformat": 4,
 "nbformat_minor": 5
}
