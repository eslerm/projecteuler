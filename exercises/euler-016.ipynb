{
 "cells": [
  {
   "cell_type": "markdown",
   "id": "71f08110-668e-469c-ac33-bba47d7e22ea",
   "metadata": {},
   "source": [
    "## Probelm 16 - Power digit sum\n",
    "\n",
    "> 2^15 = 32768 and the sum of its digits is 3 + 2 + 7 + 6 + 8 = 26.\n",
    ">\n",
    "> What is the sum of the digits of the number 2^1000?"
   ]
  },
  {
   "cell_type": "code",
   "execution_count": 1,
   "id": "d74d9864-6dc3-4203-9419-64db3122aef5",
   "metadata": {},
   "outputs": [
    {
     "data": {
      "text/plain": [
       "1366"
      ]
     },
     "execution_count": 1,
     "metadata": {},
     "output_type": "execute_result"
    }
   ],
   "source": [
    "sum([int(n) for n in str(2**1_000)])"
   ]
  }
 ],
 "metadata": {
  "kernelspec": {
   "display_name": "Python 3 (ipykernel)",
   "language": "python",
   "name": "python3"
  },
  "language_info": {
   "codemirror_mode": {
    "name": "ipython",
    "version": 3
   },
   "file_extension": ".py",
   "mimetype": "text/x-python",
   "name": "python",
   "nbconvert_exporter": "python",
   "pygments_lexer": "ipython3",
   "version": "3.10.4"
  }
 },
 "nbformat": 4,
 "nbformat_minor": 5
}
