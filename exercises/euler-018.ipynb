{
 "cells": [
  {
   "cell_type": "markdown",
   "id": "71f08110-668e-469c-ac33-bba47d7e22ea",
   "metadata": {},
   "source": [
    "## Probelm 18 - Maximum path sum I\n",
    "\n",
    ">  By starting at the top of the triangle below and moving to adjacent numbers on the row below, the maximum total from top to bottom is 23.\n",
    "\n",
    "```\n",
    "   3\n",
    "  7 4\n",
    " 2 4 6\n",
    "8 5 9 3\n",
    "```\n",
    "\n",
    "That is, 3 + 7 + 4 + 9 = 23.\n",
    "\n",
    "Find the maximum total from top to bottom of the triangle below:\n",
    "\n",
    "```\n",
    "                            75\n",
    "                          95 64\n",
    "                        17 47 82\n",
    "                      18 35 87 10\n",
    "                    20 04 82 47 65\n",
    "                  19 01 23 75 03 34\n",
    "                88 02 77 73 07 63 67\n",
    "              99 65 04 28 06 16 70 92\n",
    "            41 41 26 56 83 40 80 70 33\n",
    "          41 48 72 33 47 32 37 16 94 29\n",
    "        53 71 44 65 25 43 91 52 97 51 14\n",
    "      70 11 33 28 77 73 17 78 39 68 17 57\n",
    "    91 71 52 38 17 14 91 43 58 50 27 29 48\n",
    "  63 66 04 68 89 53 67 30 73 16 69 87 40 31\n",
    "04 62 98 27 23 09 70 98 73 93 38 53 60 04 23\n",
    "```\n",
    "\n",
    "NOTE: As there are only 16384 routes, it is possible to solve this problem by trying every route. However, Problem 67, is the same challenge with a triangle containing one-hundred rows; it cannot be solved by brute force, and requires a clever method! ;o)\n"
   ]
  },
  {
   "cell_type": "markdown",
   "id": "ae9827df-2fcf-42ae-8bf0-7ded3948f320",
   "metadata": {},
   "source": [
    "Each time you go up a level, the lowest path can be discarded."
   ]
  },
  {
   "cell_type": "code",
   "execution_count": 1,
   "id": "89944ca2-dcd0-48cc-a4e6-e9d56ee34c55",
   "metadata": {},
   "outputs": [
    {
     "data": {
      "text/plain": [
       "1074"
      ]
     },
     "execution_count": 1,
     "metadata": {},
     "output_type": "execute_result"
    }
   ],
   "source": [
    "triangle = [\n",
    "    [75],\n",
    "    [95, 64],\n",
    "    [17, 47, 82],\n",
    "    [18, 35, 87, 10],\n",
    "    [20, 4, 82, 47, 65],\n",
    "    [19, 1, 23, 75, 3, 34],\n",
    "    [88, 2, 77, 73, 7, 63, 67],\n",
    "    [99, 65, 4, 28, 6, 16, 70, 92],\n",
    "    [41, 41, 26, 56, 83, 40, 80, 70, 33],\n",
    "    [41, 48, 72, 33, 47, 32, 37, 16, 94, 29],\n",
    "    [53, 71, 44, 65, 25, 43, 91, 52, 97, 51, 14],\n",
    "    [70, 11, 33, 28, 77, 73, 17, 78, 39, 68, 17, 57],\n",
    "    [91, 71, 52, 38, 17, 14, 91, 43, 58, 50, 27, 29, 48],\n",
    "    [63, 66, 4, 68, 89, 53, 67, 30, 73, 16, 69, 87, 40, 31],\n",
    "    [4, 62, 98, 27, 23, 9, 70, 98, 73, 93, 38, 53, 60, 4, 23],\n",
    "]\n",
    "\n",
    "\n",
    "triangle_rows = len(triangle) - 1\n",
    "\n",
    "for i in range(triangle_rows, 0, -1):\n",
    "    for y in range(len(triangle[i - 1])):\n",
    "        triangle[i - 1][y] = max(\n",
    "            triangle[i - 1][y] + triangle[i][y],\n",
    "            triangle[i - 1][y] + triangle[i][y + 1]\n",
    "        )\n",
    "\n",
    "triangle[0][0]\n"
   ]
  }
 ],
 "metadata": {
  "kernelspec": {
   "display_name": "Python 3 (ipykernel)",
   "language": "python",
   "name": "python3"
  },
  "language_info": {
   "codemirror_mode": {
    "name": "ipython",
    "version": 3
   },
   "file_extension": ".py",
   "mimetype": "text/x-python",
   "name": "python",
   "nbconvert_exporter": "python",
   "pygments_lexer": "ipython3",
   "version": "3.10.4"
  }
 },
 "nbformat": 4,
 "nbformat_minor": 5
}
